{
  "cells": [
    {
      "metadata": {
        "id": "5rG_XLRkOyG9"
      },
      "cell_type": "markdown",
      "source": [
        "# Copyright 2025 Google LLC\n",
        "\n",
        "Licensed under the Apache License, Version 2.0 (the \"License\");\n",
        "you may not use this file except in compliance with the License.\n",
        "You may obtain a copy of the License at\n",
        "\n",
        "     https://www.apache.org/licenses/LICENSE-2.0\n",
        "\n",
        "Unless required by applicable law or agreed to in writing, software\n",
        "distributed under the License is distributed on an \"AS IS\" BASIS,\n",
        "WITHOUT WARRANTIES OR CONDITIONS OF ANY KIND, either express or implied.\n",
        "See the License for the specific language governing permissions and\n",
        "limitations under the License."
      ]
    },
    {
      "metadata": {
        "id": "uGP6SjRDlhfA"
      },
      "cell_type": "markdown",
      "source": [
        "# YouTube Reporting API: Bulk Reporting Job Creation for Content Owners\n",
        "\n",
        "[![Open In Colab](https://colab.research.google.com/assets/colab-badge.svg)](https://colab.research.google.com/github/YouTubeLabs/code-samples/blob/main/yt_bulk_reporting_job_creation_for_co/yt_bulk_reporting_job_creation_for_co.ipynb)\n",
        "\n",
        "## Purpose of this notebook\n",
        "\n",
        "The \n",
        "[YouTube Reporting API](https://developers.google.com/youtube/reporting/v1/reference/rest) \n",
        "enables developers to schedule reporting jobs and then download generated bulk \n",
        "reports. The API supports a predefined set of reports, each of which contains a \n",
        "comprehensive set of YouTube Analytics data for a content owner.\n",
        "\n",
        "You can run this Colab notebook to streamline your YouTube Reporting API \n",
        "workflow by automating the creation of all available \n",
        "[reporting jobs](https://developers.google.com/youtube/reporting/v1/reference/rest) \n",
        "in bulk. This ensures you consistently collect comprehensive YouTube Analytics \n",
        "data for your content owner, without manually setting up each report.\n",
        "\n",
        "For an example on how you can subsequentially download the retrieved reports, \n",
        "you can refer to \n",
        "[this other Colab notebook](https://github.com/YouTubeLabs/code-samples/blob/main/authentication_and_report_bulk_download/authentication_and_report_bulk_download.ipynb).\n",
        "\n",
        "Please note that this notebook creates reporting jobs for **ALL** non-system \n",
        "managed reports that you are eligible to receive but are not yet receiving,\n",
        "excluding the report types that are marked as deprecated. If you have in place a\n",
        "workflow that automatically downloads reports for all existing jobs, running\n",
        "this script could significantly increase the volume of reports that you\n",
        "download."
      ]
    },
    {
      "metadata": {
        "id": "g4GUt85D-oRx"
      },
      "cell_type": "markdown",
      "source": [
        "## Requirements\n",
        "\n",
        "In order to run this Colab you will need the following information:\n",
        "1. Your Content Owner ID (a 22-character string found in your YouTube Studio \n",
        "Content Owner URL).\n",
        "\n",
        "2. A service account key that has access to your CMS\n",
        "\n",
        "    a. [Create a Google Cloud Project](https://support.google.com/googleapi/answer/6251787?sjid=491706405724629806-NC#zippy=%2Ccreate-a-project) if you don't have one.\n",
        "\n",
        "    b. Enable the YouTube Reporting APIs on of the \n",
        "    [Google Cloud Console](https://console.cloud.google.com/apis/library/youtubereporting.googleapis.com).\n",
        "\n",
        "    c. Create a service account in IAM section and a service account key for it \n",
        "    using the \n",
        "    [following tutorial](https://cloud.google.com/iam/docs/keys-create-delete).\n",
        "\n",
        "    d. Add your service account as a user in your CMS using the \n",
        "    [following tutorial](https://support.google.com/youtube/answer/4524878?hl=en). \n",
        "    The email adress to invite should be the one associated with your service \n",
        "    account ending with iam.gserviceaccount.com. The service account will \n",
        "    automatically accept the invite sent from the CMS.\\\n",
        "    If you plan on downloading reports with revenue numbers, you will need to \n",
        "    have permission to view revenue for the content owner."
      ]
    },
    {
      "metadata": {
        "id": "cH5EnYLfN_rM"
      },
      "cell_type": "markdown",
      "source": [
        "## Important note on credential management\n",
        "\n",
        "This Colab notebook, like others in this repository, uses a service account JSON \n",
        "key for authentication. While convenient for educational and demonstration \n",
        "purposes in a Colab notebook, be sure to handle such a file, which contains \n",
        "sensitive credentials, with extreme care.\n",
        "\n",
        "Read [here](https://developers.google.com/youtube/reporting/guides/authorization) \n",
        "for more information on authorization flows."
      ]
    },
    {
      "metadata": {
        "id": "TMpS6VsVOFjn"
      },
      "cell_type": "markdown",
      "source": [
        "Please enter your content owner ID in the field below\n",
        "on the right."
      ]
    },
    {
      "metadata": {
        "id": "xISHyXkVGQLx"
      },
      "cell_type": "code",
      "source": [
        "import json\n",
        "import time\n",
        "from google.colab import files\n",
        "from google.oauth2 import service_account\n",
        "from googleapiclient.discovery import build\n",
        "from googleapiclient.errors import HttpError\n",
        "\n",
        "# Content Owner ID: Replace with your actual 22-character Content Owner ID.\n",
        "# This can be found in the URL to your content owner in YouTube Studio.\n",
        "CONTENT_OWNER_ID = \"\"  # @param {type:\"string\"}\n",
        "\n",
        "if not CONTENT_OWNER_ID:\n",
        "  raise ValueError(\n",
        "      \"Error: CONTENT_OWNER_ID cannot be empty. \"\n",
        "      \"Please provide your Content Owner ID.\"\n",
        "  )\n",
        "\n",
        "# Authentication Scopes for YouTube Reporting API\n",
        "SCOPES = [\"https://www.googleapis.com/auth/yt-analytics-monetary.readonly\"]\n",
        "API_SERVICE_NAME = \"youtubereporting\"\n",
        "API_VERSION = \"v1\""
      ],
      "outputs": [],
      "execution_count": null
    },
    {
      "metadata": {
        "id": "AffqUdBl1_RN"
      },
      "cell_type": "markdown",
      "source": [
        "## Authentication\n",
        "\n",
        "The function below will authenticate you to the reporting API.\n",
        "\n",
        "The authentication process gives rights to the following scope:\n",
        "yt-analytics-monetary.readonly"
      ]
    },
    {
      "metadata": {
        "id": "Uw8KlwPbGLlO"
      },
      "cell_type": "code",
      "source": [
        "def get_authenticated_service():\n",
        "  \"\"\"Authenticates to the YouTube Reporting API using a service account key.\n",
        "\n",
        "  This function will prompt you to upload your service account JSON file.\n",
        "\n",
        "  Returns:\n",
        "      A YouTube Reporting API service object, or None if authentication fails.\n",
        "  \"\"\"\n",
        "  print(\"Please upload your service account key JSON file.\")\n",
        "  service_account_upload = files.upload()\n",
        "  try:\n",
        "    service_account_json = json.loads(\n",
        "        next(iter(service_account_upload.values()))\n",
        "    )\n",
        "  except StopIteration:\n",
        "    print(\"Error: No file was uploaded.\")\n",
        "    return None\n",
        "\n",
        "  credentials = service_account.Credentials.from_service_account_info(\n",
        "      service_account_json, scopes=SCOPES\n",
        "  )\n",
        "  print(\"Authentication successful.\")\n",
        "  return build(API_SERVICE_NAME, API_VERSION, credentials=credentials)"
      ],
      "outputs": [],
      "execution_count": null
    },
    {
      "metadata": {
        "id": "fL6Ytq1h2jTg"
      },
      "cell_type": "markdown",
      "source": [
        "## List the report types"
      ]
    },
    {
      "metadata": {
        "id": "qgZYkl0F22tD"
      },
      "cell_type": "markdown",
      "source": [
        "This function retrieves all available report types, explicitly excluding\n",
        "system-managed reports since they do not require manual job creation and report\n",
        "types that are not flagged as deprecated (as per documentation here:\n",
        "https://developers.google.com/youtube/reporting/v1/reference/rest/v1/jobs/create#errors).\n",
        "An exhaustive list of bulk reports supported by the API can be found \n",
        "[here](https://developers.google.com/youtube/reporting/v1/reports/content_owner_reports)."
      ]
    },
    {
      "metadata": {
        "id": "XU9wnNM_Giap"
      },
      "cell_type": "code",
      "source": [
        "def list_report_types(youtube_reporting, **kwargs):\n",
        "  \"\"\"Returns all available report types from the YouTube Reporting API.\n",
        "\n",
        "  Excludes system-managed reports.\n",
        "\n",
        "  Args:\n",
        "      youtube_reporting: The authenticated YouTube Reporting API service.\n",
        "      **kwargs: Additional keyword arguments for the API request.\n",
        "\n",
        "  Returns:\n",
        "      A list of available report type dictionaries.\n",
        "  \"\"\"\n",
        "  non_system_managed_report_types = []\n",
        "  try:\n",
        "    request = youtube_reporting.reportTypes().list(\n",
        "        includeSystemManaged=False, **kwargs\n",
        "    )\n",
        "    while request:\n",
        "      response = request.execute()\n",
        "      if \"reportTypes\" in response:\n",
        "        for report_type in response[\"reportTypes\"]:\n",
        "          # Check if 'deprecateTime' is present\n",
        "          if \"deprecateTime\" in report_type:\n",
        "            print(f\"Skipping deprecated report type: {report_type.get('id', 'Unknown')}\")\n",
        "          else:\n",
        "            non_system_managed_report_types.extend([report_type])\n",
        "      request = youtube_reporting.reportTypes().list_next(request, response)\n",
        "\n",
        "  except HttpError as e:\n",
        "    print(\n",
        "        f\"An HTTP error {e.resp.status} occurred while listing report types:\\n\"\n",
        "        f\"{e.content}\"\n",
        "    )\n",
        "    return []\n",
        "  return non_system_managed_report_types"
      ],
      "outputs": [],
      "execution_count": null
    },
    {
      "metadata": {
        "id": "aiX9ZsWlClgv"
      },
      "cell_type": "markdown",
      "source": [
        "## List the existing reporting jobs"
      ]
    },
    {
      "metadata": {
        "id": "rhEz3HSwnl20"
      },
      "cell_type": "markdown",
      "source": [
        "This function retrieves all previously created reporting jobs. Note that jobs\n",
        "for system-managed reports are automatically generated by YouTube and are\n",
        "therefore ignored by this function."
      ]
    },
    {
      "metadata": {
        "id": "fbPtVNnaGf_R"
      },
      "cell_type": "code",
      "source": [
        "def list_reporting_jobs(youtube_reporting, **kwargs):\n",
        "  \"\"\"Returns all existing reporting jobs.\n",
        "\n",
        "  Excludes jobs for system-managed reports.\n",
        "\n",
        "  Args:\n",
        "      youtube_reporting: The authenticated YouTube Reporting API service.\n",
        "      **kwargs: Additional keyword arguments for the API request.\n",
        "\n",
        "  Returns:\n",
        "      A list of existing reporting job dictionaries.\n",
        "  \"\"\"\n",
        "  jobs = []\n",
        "  try:\n",
        "    request = youtube_reporting.jobs().list(\n",
        "        includeSystemManaged=False, **kwargs\n",
        "    )\n",
        "    while request:\n",
        "      response = request.execute()\n",
        "      if \"jobs\" in response:\n",
        "        jobs.extend(response[\"jobs\"])\n",
        "      request = youtube_reporting.jobs().list_next(request, response)\n",
        "\n",
        "  except HttpError as e:\n",
        "    print(\n",
        "        f\"An HTTP error {e.resp.status} occurred while listing jobs:\\n\"\n",
        "        f\"{e.content}\"\n",
        "    )\n",
        "    return []\n",
        "  return jobs"
      ],
      "outputs": [],
      "execution_count": null
    },
    {
      "metadata": {
        "id": "sDckubiK28w-"
      },
      "cell_type": "markdown",
      "source": [
        "## Create missing reporting jobs"
      ]
    },
    {
      "metadata": {
        "id": "en9Qrs9jooUV"
      },
      "cell_type": "markdown",
      "source": [
        "The function below creates reporting jobs for all the report types (excluding\n",
        "system-managed reports) that don't have one yet.\n",
        "\n",
        "The function applies the name  `\"Job bulk created via script for {report_type_id}\"`\n",
        "to the job. Update the code below accordingly if you desire a different name to be applied.\n"
      ]
    },
    {
      "metadata": {
        "id": "0mGf7YPgGeuB"
      },
      "cell_type": "code",
      "source": [
        "def create_reporting_job(youtube_reporting, report_type_id, content_owner_id):\n",
        "  \"\"\"Creates a new reporting job for a given report type ID.\n",
        "\n",
        "  Args:\n",
        "      youtube_reporting: The authenticated YouTube Reporting API service.\n",
        "      report_type_id: The ID of the report type to create a job for.\n",
        "      content_owner_id: The ID of the content owner.\n",
        "\n",
        "  Returns:\n",
        "      The created job dictionary, or None if job creation fails.\n",
        "  \"\"\"\n",
        "  body = {\n",
        "      \"reportTypeId\": report_type_id,\n",
        "      \"name\": f\"Job bulk created via script for {report_type_id}\",\n",
        "  }\n",
        "  try:\n",
        "    job = (\n",
        "        youtube_reporting.jobs()\n",
        "        .create(onBehalfOfContentOwner=content_owner_id, body=body)\n",
        "        .execute()\n",
        "    )\n",
        "    print(\n",
        "        f\"Successfully created job '{job['id']}' \"\n",
        "        f\"for report type '{report_type_id}'\"\n",
        "    )\n",
        "    return job\n",
        "  except HttpError as e:\n",
        "    print(\n",
        "        f\"An HTTP error {e.resp.status} occurred while creating job \"\n",
        "        f\"for {report_type_id}:\\n{e.content}\"\n",
        "    )\n",
        "    return None"
      ],
      "outputs": [],
      "execution_count": null
    },
    {
      "metadata": {
        "id": "4U7GhqJf3Ap0"
      },
      "cell_type": "markdown",
      "source": [
        "## Run the script"
      ]
    },
    {
      "metadata": {
        "id": "6Fg3sVWux3AH"
      },
      "cell_type": "code",
      "source": [
        "# The code below will authenticate you to the reporting API.\n",
        "youtube_reporting = get_authenticated_service()"
      ],
      "outputs": [],
      "execution_count": null
    },
    {
      "metadata": {
        "id": "QF6b8cq-Gb7z"
      },
      "cell_type": "code",
      "source": [
        "# Main script to identify and create the missing jobs.\n",
        "\n",
        "if youtube_reporting:\n",
        "  available_report_types = list_report_types(\n",
        "      youtube_reporting, onBehalfOfContentOwner=CONTENT_OWNER_ID\n",
        "  )\n",
        "  print(\n",
        "      f\"Found {len(available_report_types)} available report types \"\n",
        "      \"(excluding system-managed reports).\"\n",
        "  )\n",
        "  existing_jobs = list_reporting_jobs(\n",
        "      youtube_reporting, onBehalfOfContentOwner=CONTENT_OWNER_ID\n",
        "  )\n",
        "  print(\n",
        "      f\"Found {len(existing_jobs)} total existing reporting jobs \"\n",
        "      \"(excluding auto-generated jobs for system-managed reports).\"\n",
        "  )\n",
        "\n",
        "  existing_job_report_type_ids = {\n",
        "      job[\"reportTypeId\"] for job in existing_jobs if \"reportTypeId\" in job\n",
        "  }\n",
        "\n",
        "  new_jobs_created_count = 0\n",
        "  for report_type in available_report_types:\n",
        "    if report_type[\"id\"] not in existing_job_report_type_ids:\n",
        "      created_job = create_reporting_job(\n",
        "          youtube_reporting, report_type[\"id\"], CONTENT_OWNER_ID\n",
        "      )\n",
        "      if created_job:\n",
        "        new_jobs_created_count += 1\n",
        "        time.sleep(0.5)\n",
        "\n",
        "  print(f\"Total new reporting jobs created: {new_jobs_created_count}\")\n",
        "else:\n",
        "  print(\"Authentication failed.\")"
      ],
      "outputs": [],
      "execution_count": null
    }
  ],
  "metadata": {
    "colab": {
      "provenance": [],
      "toc_visible": true
    },
    "kernelspec": {
      "display_name": "Python 3",
      "name": "python3"
    },
    "language_info": {
      "codemirror_mode": {
        "name": "ipython",
        "version": 3
      },
      "name": "python",
      "file_extension": ".py",
      "mimetype": "text/x-python",
      "nbconvert_exporter": "python",
      "pygments_lexer": "ipython3",
      "version": "3.10.13"
    }
  },
  "nbformat": 4,
  "nbformat_minor": 0
}
