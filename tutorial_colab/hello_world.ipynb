{
  "nbformat": 4,
  "nbformat_minor": 0,
  "metadata": {
    "colab": {
      "provenance": [],
      "private_outputs": true
    },
    "kernelspec": {
      "name": "python3",
      "display_name": "Python 3"
    },
    "language_info": {
      "name": "python"
    }
  },
  "cells": [
    {
      "cell_type": "markdown",
      "source": [
        "### Copyright 2024 Google LLC\n",
        "\n",
        "Licensed under the Apache License, Version 2.0 (the \"License\");\n",
        "you may not use this file except in compliance with the License.\n",
        "You may obtain a copy of the License at\n",
        "\n",
        "https://www.apache.org/licenses/LICENSE-2.0\n",
        "\n",
        "Unless required by applicable law or agreed to in writing, software\n",
        "distributed under the License is distributed on an \"AS IS\" BASIS,\n",
        "WITHOUT WARRANTIES OR CONDITIONS OF ANY KIND, either express or implied.\n",
        "See the License for the specific language governing permissions andlimitations under the License."
      ],
      "metadata": {
        "id": "DsiN_mrsTeQI"
      }
    },
    {
      "cell_type": "markdown",
      "source": [
        "# Tutorial Colab\n",
        "\n",
        "If you are new to using Google Colaboratory Notebooks, try out this tutorial. Enter a name and run the code below to get started!\n",
        "\n",
        "For more information, you can find the Colab documentation [here](https://colab.research.google.com/).\n",
        "\n",
        "Start with printing \"Hello, world!\" in the code cell below."
      ],
      "metadata": {
        "id": "dHH_jP87AP_O"
      }
    },
    {
      "cell_type": "code",
      "execution_count": null,
      "metadata": {
        "id": "u7BFrTKO_vzH"
      },
      "outputs": [],
      "source": [
        "print('Hello, world!')"
      ]
    },
    {
      "cell_type": "markdown",
      "source": [
        "Enter a name in the form field below. This will be used in the `say_hello()` function in the following cell."
      ],
      "metadata": {
        "id": "gISUb9FWU_OU"
      }
    },
    {
      "cell_type": "code",
      "source": [
        "#  A name to say hello.\n",
        "YOUR_NAME = '' #@param {type:'string'}"
      ],
      "metadata": {
        "id": "PhwKCP6-S1ru"
      },
      "execution_count": null,
      "outputs": []
    },
    {
      "cell_type": "markdown",
      "source": [
        "Using the `YOUR_NAME` variable that was set above, the `say_hello()` function will say hello to the name that you've entered."
      ],
      "metadata": {
        "id": "hqkdvYRiVUhs"
      }
    },
    {
      "cell_type": "code",
      "source": [
        "def say_hello(name):\n",
        "  return f'Hello, {name}!'\n",
        "\n",
        "say_hello(YOUR_NAME)"
      ],
      "metadata": {
        "id": "mnbLcWI0_8iy"
      },
      "execution_count": null,
      "outputs": []
    }
  ]
}