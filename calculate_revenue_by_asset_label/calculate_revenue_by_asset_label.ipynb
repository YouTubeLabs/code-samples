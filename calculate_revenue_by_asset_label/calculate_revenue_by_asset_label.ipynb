{
  "nbformat": 4,
  "nbformat_minor": 0,
  "metadata": {
    "colab": {
      "provenance": []
    },
    "kernelspec": {
      "name": "python3",
      "display_name": "Python 3"
    },
    "language_info": {
      "codemirror_mode": {
        "name": "ipython",
        "version": 3
      },
      "name": "python",
      "file_extension": ".py",
      "mimetype": "text/x-python",
      "nbconvert_exporter": "python",
      "pygments_lexer": "ipython3",
      "version": "3.10.13"
    }
  },
  "cells": [
    {
      "cell_type": "markdown",
      "source": [
        "### Copyright 2024 Google LLC\n",
        "\n",
        "```\n",
        "Licensed under the Apache License, Version 2.0 (the \"License\");\n",
        "you may not use this file except in compliance with the License.\n",
        "You may obtain a copy of the License at\n",
        "\n",
        "https://www.apache.org/licenses/LICENSE-2.0\n",
        "\n",
        "Unless required by applicable law or agreed to in writing, software\n",
        "distributed under the License is distributed on an \"AS IS\" BASIS,\n",
        "WITHOUT WARRANTIES OR CONDITIONS OF ANY KIND, either express or implied.\n",
        "See the License for the specific language governing permissions andlimitations under the License.\n",
        "```"
      ],
      "metadata": {
        "id": "OFukE750XqQ1"
      }
    },
    {
      "cell_type": "markdown",
      "source": [
        "# Calculate Partner Revenue by Asset Label using Asset Revenue Reports\n",
        "\n",
        "Author: Haley Schafer\n",
        "\n",
        "[![Open In Colab](https://colab.research.google.com/assets/colab-badge.svg)](https://colab.research.google.com/github/YouTubeLabs/code-samples/blob/main/calculate_revenue_by_asset_label/calculate_revenue_by_asset_label.ipynb)\n",
        "\n",
        "<br>\n",
        "\n",
        "This colab to calculate your revenue by asset label is meant to work alongside the [Bulk Download Reports from the Reporting API colab](https://github.com/YouTubeLabs/code-samples/blob/main/authentication_and_report_bulk_download/authentication_and_report_bulk_download.ipynb) in this same [GitHub Repository](https://github.com/YouTubeLabs/code-samples) that downloads all of the available reports from a content owner into a `reports` folder in Google Drive.\n",
        "\n",
        "<br>\n",
        "<font color=\"red\" size=5><strong>\n",
        "Please note that this colab does not currently support asset label calculations for Music Publisher or Music Label content owners.\n",
        "</strong></font>\n",
        "<br>\n",
        "\n",
        "**The default set up of this Colab assumes that you have used our [Bulk Download Reports from the Reporting API colab](https://github.com/YouTubeLabs/code-samples/blob/main/authentication_and_report_bulk_download/authentication_and_report_bulk_download.ipynb) to download your revenue reports from the Reporting API. If you have downloaded the reports another way (e.g. programmatically, on your own, via the API), you may need to make changes to the `REPORT_FOLDER_NAME` variable, and/or the file path pointing to your revenue reports in Google Drive.**\n"
      ],
      "metadata": {
        "id": "PnBa9WIEdCE0"
      }
    },
    {
      "cell_type": "markdown",
      "source": [
        "## Types of Revenue by Asset Label\n",
        "\n",
        "After you've downloaded your revenue reports from the YouTube Reporting API, you can calculate your revenue by asset label. The asset label field is only available in some revenue reports, so not all reports will be used in this script. This script uses the `partner_revenue` and `asset_labels` fields in the following revenue categories:\n",
        "- [Ads Revenue](https://developers.google.com/youtube/reporting/v1/reports/system_managed/ads#aggregate-ad-revenue-per-asset)\n",
        "- [Subscription Music Revenue](https://developers.google.com/youtube/reporting/v1/reports/system_managed/subscriptions#monthly-subscriptions-music-assets-revenue)\n",
        "- [Subscription Non-Music Revenue](https://developers.google.com/youtube/reporting/v1/reports/system_managed/subscriptions#monthly-subscriptions-non-music-assets-revenue)\n",
        "- [Ads Adjustment Revenue](https://developers.google.com/youtube/reporting/v1/reports/system_managed/ads#monthly-asset-ad-adjustment-revenue-summary)\n",
        "- [Subscriptions Adjustment Music Revenue](https://developers.google.com/youtube/reporting/v1/reports/system_managed/subscriptions#monthly-music-asset-subscription-adjustment-revenue-raw)\n",
        "- [Subscriptions Adjustment Non-Music Revenue](https://developers.google.com/youtube/reporting/v1/reports/system_managed/subscriptions#monthly-non-music-asset-subscription-adjustment-revenue-raw)\n",
        "\n",
        "This colab does not take the following revenue categories or reports into account, and will need to be accounted for separately. Please check your [Payment Summary Report](https://support.google.com/youtube/answer/6085590?hl=en-GB#zippy=%2Cpayment-summary-report) for further details. This list is non-exhaustive.\n",
        "- [Shorts Revenue](https://support.google.com/youtube/answer/6085590?hl=en-GB#zippy=%2Cshorts-revenue-report%2Cshorts-ads-report%2Cshorts-subscription-report)\n",
        "- [Transactions](https://support.google.com/youtube/answer/6085590?hl=en-GB#zippy=%2Ctransactions-revenue-report)\n",
        "- [Paid Features](https://support.google.com/youtube/answer/6085590?hl=en-GB#zippy=%2Cpaid-features-report)\n",
        "- [Tax Withholding](https://support.google.com/youtube/answer/10391273?hl=en-GB&ref_topic=9257988&sjid=7232590298913281400-EU)\n",
        "- [Channel Level Adjustments](https://support.google.com/youtube/answer/6085590?hl=en-GB#zippy=%2Cchannel-level-adjustment-report)\n",
        "\n",
        "<font color=\"red\" size=4><strong>\n",
        "Use at your own risk: It is your responsibility to check that the revenue calculations of this colab are correct for your revenue and that all applicable revenue categories are accounted for.\n",
        "</strong></font>"
      ],
      "metadata": {
        "id": "WNmXncsGKEww"
      }
    },
    {
      "cell_type": "markdown",
      "source": [
        "## Once the partner revenue by asset label has been calculated, where can I find the breakdown?\n",
        "\n",
        "Partner revenue will first be calculated by asset label on an individual report level and saved to a CSV file ending in `_revenue_by_asset_label_raw.csv` in the same folder that your reports are located in. This CSV will have one section per revenue report with the partner revenue by asset label for that report. The report that the section corresponds to you will be indicated at the top of the section.\n",
        "\n",
        "Then, the total partner revenue by asset label will be calculated across all revenue categories using a report with an asset label column and saved to a CSV file ending in `_revenue_by_asset_label_summary.csv` in the same folder.\n"
      ],
      "metadata": {
        "id": "8Z2jQ6tvLcX_"
      }
    },
    {
      "cell_type": "markdown",
      "source": [
        "## Required input variables\n",
        "\n",
        "Please provide values for the following two variables using the input selection below.\n",
        "\n",
        "1. `FIRST_DAY_OF_MONTH` should be the first day of the month for which you want to\n",
        "calculate revenue. If you have downloaded your revenue reports using the\n",
        "YouTubeLabs colab to [Download Reports from the YouTube Reporting API](https://github.com/YouTubeLabs/code-samples/blob/main/authentication_and_report_bulk_download/authentication_and_report_bulk_download.ipynb) then your system-managed revenue reports will have this date in the report file name.\n",
        "\n",
        "2. `REPORT_FOLDER_NAME` should be the name of the folder that all of your reports\n",
        "are stored in. If you have downloaded the revenue reports using the YouTubeLabs colab to [Download Reports from the YouTube Reporting API](https://github.com/YouTubeLabs/code-samples/blob/main/authentication_and_report_bulk_download/authentication_and_report_bulk_download.ipynb), you do not need to change this value if you downloaded your reports to the default \"reports\" folder in your Google Drive using that Colab. **If you downloaded your reports to a different location on Google Drive**, then you will need to adjust this value.\n",
        "\n",
        "3. `CONTENT_OWNER_ID` is the content owner ID of the content owner for which you want to calculate your revenue.\n",
        "\n",
        "4. `SHOW_TOTALS` If you want the total partner revenue to be shown at the end of each category of revenue calculated, this box should be checked. By default, the totals will be included.\n",
        "\n",
        "5. `DECOMPRESSED` If your reports have been downloaded as a gzip, and they have not been manually decompressed, you will need to uncheck this box. If your reports are already decompressed (e.g. in a CSV), which is the default value in our colab to colab to [Download Reports from the YouTube Reporting API](https://github.com/YouTubeLabs/code-samples/blob/main/authentication_and_report_bulk_download/authentication_and_report_bulk_download.ipynb), then you do not need to modify this setting."
      ],
      "metadata": {
        "id": "cwL3DA0u-gww"
      }
    },
    {
      "cell_type": "code",
      "execution_count": 1,
      "metadata": {
        "id": "yISnnV4YckW3",
        "cellView": "form"
      },
      "outputs": [],
      "source": [
        "# First day of the payment month you want to calculate.\n",
        "FIRST_DAY_OF_MONTH = \"\" #@param {type:'date'}\n",
        "\n",
        "#  Name of the folder the reports are in.\n",
        "REPORT_FOLDER_NAME = \"\" #@param {type:'string'}\n",
        "\n",
        "# ID of the Content Owner for which you want to calculate revenue.\n",
        "CONTENT_OWNER_ID = \"\" #@param {type:'string'}\n",
        "\n",
        "# Are your revenue reports decompressed (in a GZIP) files?\n",
        "# Default is True (total partner revenue will be shown at the bottom of each\n",
        "# revenue category calculation).\n",
        "SHOW_TOTALS = True #@param {type: 'boolean'}\n",
        "\n",
        "# Are your revenue reports decompressed (in a GZIP) files?\n",
        "# Default is false (not GZIP files).\n",
        "DECOMPRESSED = True #@param {type: 'boolean'}"
      ]
    },
    {
      "cell_type": "markdown",
      "source": [
        "## System-Managed (Downloadable Reports) Financial Reports with an asset label columns for Ads and Subscriptions Revenue reports for Non-Music Partners.\n",
        "\n",
        "Only one report with an `asset_labels` column per revenue category is required. Your content owner may not have revenue from each category every month. Please check your Monthly Payment Summary Report to verify which categories of revenue you have for the month that you're calculating revenue for.\n",
        "\n",
        "<br>\n",
        "\n",
        "If you don't have a specific category of revenue for that month, there is usually not a report generated for that revenue category. For example, if you do not have any Subscriptions Adjustment revenue this month, then you will not have the Monthly Subscription (Red) Adjustment Non Music Asset Revenue and Monthly Subscription (Red) Adjustment Music Asset Revenue reports.\n",
        "\n",
        "<br>\n",
        "\n",
        "This script will automatically skip over any reports listed below that are not available in the `REPORT_FOLDER_NAME` that you have specified.\n",
        "\n",
        "<br>\n",
        "\n",
        "*Note: There is no asset labels field in the Shorts Ads or Subscription Revenue Reports as of August 2024.*"
      ],
      "metadata": {
        "id": "VSQN4ThP6Ytl"
      }
    },
    {
      "cell_type": "code",
      "source": [
        "ASSET_LABEL_REPORT_TYPES = [\n",
        "\n",
        "    # Ads Revenue Asset Summary\n",
        "    \"content_owner_asset_ad_revenue_summary_a1\",\n",
        "\n",
        "    # Monthly Subscriptions Non Music Assets Revenue\n",
        "    \"content_owner_non_music_asset_red_revenue_raw_a1\",\n",
        "\n",
        "    # Monthly Subscriptions Music Assets Revenue\n",
        "    \"content_owner_music_asset_red_revenue_raw_a1\",\n",
        "\n",
        "    # Monthly Ads Adjustment Asset Revenue Summary\n",
        "    \"content_owner_asset_ad_adjustment_revenue_summary_a1\",\n",
        "\n",
        "    # Monthly Subscription (Red) Adjustment Non Music Asset Revenue\n",
        "    \"content_owner_non_music_asset_red_adjustment_revenue_raw_a1\",\n",
        "\n",
        "    # Monthly Subscription (Red) Adjustment Music Asset Revenue\n",
        "    \"content_owner_music_asset_red_adjustment_revenue_raw_a1\",\n",
        "\n",
        "]"
      ],
      "metadata": {
        "id": "oWh-A-dM6MH9"
      },
      "execution_count": 2,
      "outputs": []
    },
    {
      "cell_type": "markdown",
      "source": [
        "## Helper Functions For This Colab\n",
        "\n",
        "These helper functions will be used throughout this colab to help with date and filepath processing."
      ],
      "metadata": {
        "id": "-o9jP71JVEIG"
      }
    },
    {
      "cell_type": "code",
      "source": [
        "from datetime import datetime, timedelta\n",
        "from dateutil.relativedelta import *\n",
        "\n",
        "def get_report_date_range(date_input):\n",
        "  \"\"\"Return string of report coverage dates based on Colab user input.\"\"\"\n",
        "  start_date = datetime.strptime(date_input, \"%Y-%m-%d\")\n",
        "  end_date = start_date + relativedelta(months=+1) - timedelta(days=+1)\n",
        "  return f\"{start_date.strftime('%Y%m%d')}_to_{end_date.strftime('%Y%m%d')}\"\n",
        "\n",
        "def get_month_id(date_input):\n",
        "  \"\"\"Return the month covered in reporting period in YYYY-MM format.\"\"\"\n",
        "  return date_input[:-3]"
      ],
      "metadata": {
        "id": "BBicMfBJUtnp"
      },
      "execution_count": 3,
      "outputs": []
    },
    {
      "cell_type": "markdown",
      "source": [
        "## Create a list of asset raw CSV reports from the Google Drive folder containing all downloaded reports from the YouTube Reporting API for that date range.\n",
        "\n",
        "The output of the code cell below confirms where this colab is looking for your revenue reports and for which month."
      ],
      "metadata": {
        "id": "j-pARM1N91_6"
      }
    },
    {
      "cell_type": "code",
      "source": [
        "DATE_RANGE = get_report_date_range(FIRST_DAY_OF_MONTH)\n",
        "MONTH_ID = get_month_id(FIRST_DAY_OF_MONTH)\n",
        "\n",
        "print(f\"You are calculating revenue for this date range: {DATE_RANGE}.\")\n",
        "print(\n",
        "    f\"This colab is looking for the revenue reports in the \"\n",
        "    f\"{REPORT_FOLDER_NAME} folder with the following date suffix in YYYY-MM \"\n",
        "    f\"format: {MONTH_ID}\"\n",
        ")"
      ],
      "metadata": {
        "id": "kqYZB7JMoxD3",
        "collapsed": true
      },
      "execution_count": null,
      "outputs": []
    },
    {
      "cell_type": "markdown",
      "source": [
        "## Mount Your Google Drive and Get Your Revenue Reports Ready\n",
        "\n",
        "This code mounts your Google Drive so that the colab can access the revenue reports from the `REPORT_FOLDER_NAME` provided. You will need to give this colab permissions to view and create files in your Google Drive.\n",
        "\n",
        "**If you have not used YouTubeLabs colab to [Download Reports from the YouTube Reporting API](https://github.com/YouTubeLabs/code-samples/blob/main/authentication_and_report_bulk_download/authentication_and_report_bulk_download.ipynb)** to download your revenue reports, then you will need to modify the filenames of your reports as mentioned above to fit the following format: `CONTENT_OWNER_ID_report_type_id_YYYY-MM`.\n",
        "\n",
        "For example, the file name for the for the content_owner_asset_ad_revenue_summary_a1 report for August 2024 revenue should be formatted like this: `XxXxXxXxXxXxXxXxXxXxXx_content_owner_asset_ad_revenue_summary_a1_2024-08.csv`"
      ],
      "metadata": {
        "id": "9bKfV1p397IM"
      }
    },
    {
      "cell_type": "code",
      "source": [
        "from google.colab import drive\n",
        "import os\n",
        "\n",
        "drive.mount(\"/content/drive\")\n",
        "report_directory = f\"/content/drive/MyDrive/{REPORT_FOLDER_NAME}/\"\n",
        "\n",
        "def create_report_list():\n",
        "  \"\"\"Return list of reports with an asset-label column in REPORT_FOLDER_NAME.\"\"\"\n",
        "  rev_reports = []\n",
        "  for report_type_id in ASSET_LABEL_REPORT_TYPES:\n",
        "    for report in os.listdir(report_directory):\n",
        "      if f'{CONTENT_OWNER_ID}_{report_type_id}_{MONTH_ID}' in report:\n",
        "        rev_reports.append(f'{report_directory}{report}')\n",
        "  return rev_reports\n",
        "\n",
        "create_report_list()"
      ],
      "metadata": {
        "id": "AiTYIedsiutA"
      },
      "execution_count": null,
      "outputs": []
    },
    {
      "cell_type": "markdown",
      "source": [
        "## Calculate asset label revenue per table from all asset reports and save each report result to a table in a CSV.\n",
        "\n",
        "The code below calculates the `partner_revenue` for each unique `asset_label` in your revenue reports and will save the output to a new CSV in your `FOLDER_NAME`. You can idenitfy the report that the asset label revenue corresponds with by the report name at the top of each partner revenue calculation table.\n",
        "\n",
        "If there is no asset label specified for an asset, the code will automatically attribute the `partner_revenue` for those assets to a \"No Asset Label\" row.\n",
        "\n",
        "For example:\n",
        "\n",
        "`CONTENT_OWNER_ID_content_owner_ads_revenue_summary_a1_MONTH_ID.csv`\n",
        "\n",
        "| asset_labels         | partner_revenue |\n",
        "|----------------------|-----------------|\n",
        "|Label A               | 10.00           |\n",
        "|Label B               | 15.00           |\n",
        "|Label C               | 20.00           |\n",
        "|No Asset Label        | 50.00           |\n",
        "|Total Partner Revenue | 95.00           |\n",
        "\n",
        "<br>\n",
        "\n",
        "`CONTENT_OWNER_ID_content_owner_non_music_asset_red_revenue_raw_a1_MONTH_ID.csv`\n",
        "\n",
        "| asset_labels          | partner_revenue |\n",
        "|-----------------------|-----------------|\n",
        "|Label A                | 12.00           |\n",
        "|Label B                | 17.00           |\n",
        "|Label C                | 22.00           |\n",
        "|Total Partner Revenue  | 51.00           |\n",
        "\n",
        "<br>\n",
        "<br>\n",
        "\n",
        "### Please note that if one asset has multiple labels, then they will apppear in the same row.\n",
        "\n",
        "For example, if you have an asset with the label `Label A` that generated `$10` of Ads revenue and another asset with two labels: `Label A` and `Label B` that generated `$20` of Ads revenue you will see two columns in the output of this script:\n",
        "\n",
        "`CONTENT_OWNER_ID_content_owner_ads_revenue_summary_a1_MONTH_ID.csv`\n",
        "\n",
        "| asset_labels           | partner_revenue |\n",
        "|------------------------|-----------------|\n",
        "|Label A                 | 10.00           |\n",
        "|Label A,Label B         | 11.00           |\n",
        "|Label B                 | 15.00           |\n",
        "|Label C                 | 20.00           |\n",
        "|Total Partner Revenue   | 56.00           |\n"
      ],
      "metadata": {
        "id": "B1wNDrVA9_ku"
      }
    },
    {
      "cell_type": "code",
      "source": [
        "from pathlib import Path\n",
        "import pandas as pd\n",
        "import numpy as np\n",
        "\n",
        "def calculate_report_level_asset_label_revenue(report_list, output_filename):\n",
        "  empty_row = {\"asset_labels\": \"\", \"partner_revenue\": \"\"}\n",
        "  for report in report_list:\n",
        "    # Get the filename of the report.\n",
        "    report_filename = Path(f'{report_directory}{report}').name\n",
        "\n",
        "    # Create a data frame with the report's filename.\n",
        "    title_row = pd.DataFrame(data=\n",
        "                             {\"Report File\": [report_filename]})\n",
        "\n",
        "    # Read data from CSV file, fill in \"No Asset Label\" where there is no\n",
        "    # asset label value.\n",
        "    partner_revenue_dataframe = pd.read_csv(report,\n",
        "                      usecols=[\"asset_labels\", \"partner_revenue\"]\n",
        "                     ).fillna(\"No Asset Label\")\n",
        "\n",
        "    # Show total partner revenue for the report that is being processed.\n",
        "    total_partner_revenue = partner_revenue_dataframe['partner_revenue'].sum()\n",
        "    print(f\"Partner Revenue for {report_filename} is \"\n",
        "          f\"${total_partner_revenue}\")\n",
        "\n",
        "    # Create a title pivot table to add the title of the report above the\n",
        "    # revenue by asset label.\n",
        "    title_pivot = pd.pivot_table(title_row, index=[\"Report File\"])\n",
        "\n",
        "    # Add the title pivot table to the CSV first.\n",
        "    title_pivot.to_csv(f'{report_directory}{output_filename}',\n",
        "                       mode=\"a\")\n",
        "\n",
        "    # Calculate sum of partner revenue by asset label.\n",
        "    partner_rev_table = pd.pivot_table(partner_revenue_dataframe,\n",
        "                                       index=[\"asset_labels\"],\n",
        "                                       values=[\"partner_revenue\"],\n",
        "                                       aggfunc=\"sum\",\n",
        "                                       ).sort_values(by=[\"asset_labels\"],\n",
        "                                                     ascending=False)\n",
        "\n",
        "    # Append the total revenue for each report to the end of that report section\n",
        "    # if the user has chosen this setting.\n",
        "    if SHOW_TOTALS:\n",
        "      partner_rev_table.loc['Total Partner Revenue'] = total_partner_revenue\n",
        "\n",
        "    # Add the empty row to the end of the pivot table to force a blank line\n",
        "    # between each report revenue list.\n",
        "    partner_rev_table.loc[''] = empty_row\n",
        "\n",
        "    # Add the revenue by asset label pivot table to the CSV.\n",
        "    partner_rev_table.to_csv(f'{report_directory}{output_filename}',\n",
        "                             mode=\"a\")\n",
        "\n",
        "  return (\n",
        "          f\"Your total asset label revenue calculations are ready in the \"\n",
        "          f\"{CONTENT_OWNER_ID}_{DATE_RANGE}_revenue_by_asset_label_raw.csv \"\n",
        "          f\"file in the {REPORT_FOLDER_NAME} folder in Google Drive.\"\n",
        "         )\n",
        "\n",
        "\n",
        "calculate_report_level_asset_label_revenue(\n",
        "    create_report_list(),\n",
        "    f\"{CONTENT_OWNER_ID}_{DATE_RANGE}_revenue_by_asset_label_raw.csv\")"
      ],
      "metadata": {
        "id": "cVQoLv5CdByC"
      },
      "execution_count": null,
      "outputs": []
    },
    {
      "cell_type": "markdown",
      "source": [
        "## Calculate total asset label revenue from all asset reports and save the result to a CSV.\n",
        "\n",
        "The code below calculates the revenue by asset label across your available revenue reports with an `asset_labels` column in your `REPORT_FOLDER_NAME`.\n",
        "\n",
        "The output will appear in the following format:\n",
        "\n",
        "| asset_labels         | partner_revenue |\n",
        "|----------------------|-----------------|\n",
        "|Label A               | 22.00           |\n",
        "|Label B               | 32.00           |\n",
        "|Label C               | 42.00           |\n",
        "|No Asset Label        | 50.00           |\n",
        "|Total Partner Revenue | 146.00          |"
      ],
      "metadata": {
        "id": "FL5f7ra1-DYm"
      }
    },
    {
      "cell_type": "code",
      "source": [
        "import pandas as pd\n",
        "import numpy as np\n",
        "\n",
        "def calculate_total_asset_label_revenue(report_list, output_filename):\n",
        "  # Concatenate all revenue reports together, fill in \"No Asset Label\" where\n",
        "  # there is no asset label value.\n",
        "  partner_revenue_dataframe = pd.concat((pd.read_csv(report,\n",
        "                               usecols=[\"asset_labels\", \"partner_revenue\"]\n",
        "                               ).fillna(\"No Asset Label\")\n",
        "                               for report in report_list))\n",
        "\n",
        "  # Calculate sum of partner revenue by asset label.\n",
        "  partner_rev_table = pd.pivot_table(partner_revenue_dataframe,\n",
        "                                     index=[\"asset_labels\"],\n",
        "                                     values=[\"partner_revenue\"],\n",
        "                                     aggfunc=\"sum\"\n",
        "                                     ).sort_values(by=[\"asset_labels\"],\n",
        "                                                   ascending=False)\n",
        "\n",
        "  # Show total partner revenue across all reports that are being processed.\n",
        "  total_partner_revenue = partner_revenue_dataframe['partner_revenue'].sum()\n",
        "  print(f\"Partner Revenue for all reports included in this calculation is \"\n",
        "        f\"${total_partner_revenue}\")\n",
        "\n",
        "  # Append the total revenue for each report to the end of that report section\n",
        "  # if the user has chosen this setting.\n",
        "  if SHOW_TOTALS:\n",
        "    partner_rev_table.loc['Total Partner Revenue'] = total_partner_revenue\n",
        "\n",
        "  # Add the revenue by asset label pivot table to the CSV.\n",
        "  partner_rev_table.to_csv(f\"{report_directory}{output_filename}\",\n",
        "                           mode=\"a\")\n",
        "\n",
        "  return (\n",
        "          f\"Your total asset label revenue calculations are ready in the \"\n",
        "          f\"{CONTENT_OWNER_ID}_{DATE_RANGE}_revenue_by_asset_label_summary.csv \"\n",
        "          f\"file in the {REPORT_FOLDER_NAME} folder in Google Drive.\"\n",
        "         )\n",
        "\n",
        "calculate_total_asset_label_revenue(\n",
        "    create_report_list(),\n",
        "    f\"{CONTENT_OWNER_ID}_{DATE_RANGE}_revenue_by_asset_label_summary.csv\")"
      ],
      "metadata": {
        "id": "i2wN_6uSTUyR",
        "collapsed": true
      },
      "execution_count": null,
      "outputs": []
    },
    {
      "cell_type": "markdown",
      "source": [
        "## That's it!\n",
        "\n",
        "The CSVs with your partner revenue by asset label for the available reports should now be in your `REPORT_FOLDER_NAME` in Drive for you to view in your spreadsheet program of choice.\n",
        "\n",
        "\n",
        "<font color=\"red\" size=4><strong>\n",
        "It is your responsibility to ensure that these calculations are correct and that all revenue sources are included.\n",
        "</strong></font>"
      ],
      "metadata": {
        "id": "aofSS2lCpAtW"
      }
    },
    {
      "cell_type": "markdown",
      "source": [
        "## Disconnect Google Drive from this Colab."
      ],
      "metadata": {
        "id": "Y73WBwEZ-IgC"
      }
    },
    {
      "cell_type": "code",
      "source": [
        "drive.flush_and_unmount()\n",
        "print(\"All changes made in this colab session should now be visible in Drive.\")"
      ],
      "metadata": {
        "id": "NmVfzRsmpfvo"
      },
      "execution_count": null,
      "outputs": []
    }
  ]
}